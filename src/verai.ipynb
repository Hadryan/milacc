{
 "cells": [
  {
   "cell_type": "code",
   "execution_count": 29,
   "metadata": {},
   "outputs": [],
   "source": [
    "import os\n",
    "import importlib\n",
    "import numpy as np\n",
    "import pandas as pd\n",
    "import librosa as lr\n",
    "import features as fts\n",
    "import ensemble as ens\n",
    "import utils\n",
    "importlib.reload(utils)\n",
    "from utils import colored\n",
    "import split\n",
    "from time import time\n",
    "from json import dumps\n",
    "import models\n",
    "import matplotlib.pyplot as plt\n",
    "importlib.reload(fts)\n",
    "importlib.reload(split)\n",
    "importlib.reload(ens)\n",
    "_ = importlib.reload(models)\n",
    "import seaborn as sns\n",
    "sns.set(palette='GnBu_d')\n",
    "from sklearn.metrics import classification_report\n",
    "from jupyterthemes import jtplot\n",
    "jtplot.style(theme='onedork')"
   ]
  },
  {
   "cell_type": "code",
   "execution_count": 30,
   "metadata": {},
   "outputs": [],
   "source": [
    "plt.rcParams['figure.figsize'] = [14, 4]"
   ]
  },
  {
   "cell_type": "code",
   "execution_count": 31,
   "metadata": {},
   "outputs": [],
   "source": [
    "frame = np.load('../data/audio/actors.frame.npy', allow_pickle=True)"
   ]
  },
  {
   "cell_type": "code",
   "execution_count": 32,
   "metadata": {},
   "outputs": [],
   "source": [
    "test_frame = frame[1080:]\n",
    "train_frame = frame[:1080]"
   ]
  },
  {
   "cell_type": "code",
   "execution_count": 33,
   "metadata": {},
   "outputs": [
    {
     "name": "stdout",
     "output_type": "stream",
     "text": [
      "Processed 1440 samples in 55.13239 seconds\n"
     ]
    }
   ],
   "source": [
    "start = time()\n",
    "features = np.array([\n",
    "    fts.extract_from(sample['signal'], sample['sample_rate']) for sample in frame\n",
    "])\n",
    "end = time()\n",
    "print(f'Processed {features.shape[0]} samples in {round(end - start, 5)} seconds')"
   ]
  },
  {
   "cell_type": "code",
   "execution_count": 6,
   "metadata": {},
   "outputs": [
    {
     "data": {
      "text/plain": [
       "(1440, 17)"
      ]
     },
     "execution_count": 6,
     "metadata": {},
     "output_type": "execute_result"
    }
   ],
   "source": [
    "features.shape"
   ]
  },
  {
   "cell_type": "code",
   "execution_count": 7,
   "metadata": {},
   "outputs": [],
   "source": [
    "# np.save('../data/audio/actors.features', features, allow_pickle=True)"
   ]
  },
  {
   "cell_type": "code",
   "execution_count": 8,
   "metadata": {},
   "outputs": [],
   "source": [
    "# features = np.load('../data/audio/actors.features.npy')"
   ]
  },
  {
   "cell_type": "code",
   "execution_count": 9,
   "metadata": {},
   "outputs": [],
   "source": [
    "test_features = features[1080:]\n",
    "train_features = features[:1080]"
   ]
  },
  {
   "cell_type": "code",
   "execution_count": 10,
   "metadata": {},
   "outputs": [
    {
     "name": "stdout",
     "output_type": "stream",
     "text": [
      "Loaded 66.7 minutes of audio.\n"
     ]
    }
   ],
   "source": [
    "# check samples duration\n",
    "total = 0\n",
    "for s in train_frame['signal']:\n",
    "    l  = s.shape[0]\n",
    "    total += l\n",
    "mins = ((total / 22050) / 60)\n",
    "print(f'Loaded {round(mins, 2)} minutes of audio.')"
   ]
  },
  {
   "cell_type": "code",
   "execution_count": 69,
   "metadata": {},
   "outputs": [
    {
     "name": "stdout",
     "output_type": "stream",
     "text": [
      "angry\n",
      "              precision    recall  f1-score   support\n",
      "\n",
      "           0       0.98      0.93      0.95       335\n",
      "           1       0.44      0.76      0.56        25\n",
      "\n",
      "    accuracy                           0.92       360\n",
      "   macro avg       0.71      0.84      0.76       360\n",
      "weighted avg       0.94      0.92      0.93       360\n",
      "\n",
      "calm\n",
      "              precision    recall  f1-score   support\n",
      "\n",
      "           0       0.97      0.92      0.95       335\n",
      "           1       0.38      0.64      0.48        25\n",
      "\n",
      "    accuracy                           0.90       360\n",
      "   macro avg       0.68      0.78      0.71       360\n",
      "weighted avg       0.93      0.90      0.91       360\n",
      "\n",
      "disgust\n",
      "              precision    recall  f1-score   support\n",
      "\n",
      "           0       0.99      0.85      0.91       355\n",
      "           1       0.02      0.20      0.03         5\n",
      "\n",
      "    accuracy                           0.84       360\n",
      "   macro avg       0.50      0.52      0.47       360\n",
      "weighted avg       0.97      0.84      0.90       360\n",
      "\n",
      "fearful\n",
      "              precision    recall  f1-score   support\n",
      "\n",
      "           0       0.99      0.89      0.94       343\n",
      "           1       0.25      0.76      0.38        17\n",
      "\n",
      "    accuracy                           0.88       360\n",
      "   macro avg       0.62      0.83      0.66       360\n",
      "weighted avg       0.95      0.88      0.91       360\n",
      "\n",
      "happy\n",
      "              precision    recall  f1-score   support\n",
      "\n",
      "           0       0.96      0.87      0.91       338\n",
      "           1       0.20      0.50      0.29        22\n",
      "\n",
      "    accuracy                           0.85       360\n",
      "   macro avg       0.58      0.68      0.60       360\n",
      "weighted avg       0.92      0.85      0.88       360\n",
      "\n",
      "neutral\n",
      "              precision    recall  f1-score   support\n",
      "\n",
      "           0       1.00      0.95      0.97       357\n",
      "           1       0.10      0.67      0.17         3\n",
      "\n",
      "    accuracy                           0.94       360\n",
      "   macro avg       0.55      0.81      0.57       360\n",
      "weighted avg       0.99      0.94      0.96       360\n",
      "\n",
      "sad\n",
      "              precision    recall  f1-score   support\n",
      "\n",
      "           0       0.98      0.89      0.93       343\n",
      "           1       0.20      0.59      0.30        17\n",
      "\n",
      "    accuracy                           0.87       360\n",
      "   macro avg       0.59      0.74      0.62       360\n",
      "weighted avg       0.94      0.87      0.90       360\n",
      "\n",
      "surprised\n",
      "              precision    recall  f1-score   support\n",
      "\n",
      "           0       1.00      0.89      0.94       357\n",
      "           1       0.07      1.00      0.13         3\n",
      "\n",
      "    accuracy                           0.89       360\n",
      "   macro avg       0.53      0.94      0.53       360\n",
      "weighted avg       0.99      0.89      0.93       360\n",
      "\n"
     ]
    }
   ],
   "source": [
    "import lightgbm\n",
    "from sklearn.model_selection import train_test_split\n",
    "\n",
    "\n",
    "for EM in emotions:\n",
    "\n",
    "    y = (train_frame['emotion'] == EM).astype(np.int)\n",
    "\n",
    "    x, x_test, y, y_test = train_test_split(train_features, y, test_size=0.2, random_state=42, stratify=y)\n",
    "\n",
    "    train_data = lightgbm.Dataset(x, label=y)\n",
    "    test_data = lightgbm.Dataset(x_test, label=y_test)\n",
    "\n",
    "    parameters = {\n",
    "        'application': 'binary',\n",
    "        'objective': 'binary',\n",
    "        'metric': 'auc',\n",
    "        'is_unbalance': 'false',\n",
    "        'boosting': 'gbdt',\n",
    "        'num_leaves': 70,\n",
    "        'feature_fraction': 0.5,\n",
    "        'bagging_fraction': 0.5,\n",
    "        'bagging_freq': 20,\n",
    "        'learning_rate': 0.02,\n",
    "        'max_bin': 10000,\n",
    "        'verbose': 0\n",
    "    }\n",
    "\n",
    "    model = lightgbm.train(parameters,\n",
    "                           train_data,\n",
    "                           verbose_eval=False,\n",
    "                           valid_sets=test_data,\n",
    "                           num_boost_round=5000,\n",
    "                           early_stopping_rounds=500)\n",
    "\n",
    "    preds = model.predict(test_features, num_iteration=model.best_iteration)\n",
    "\n",
    "    px = (preds > 0.5).astype(np.int)\n",
    "    rep = classification_report(px, (test_frame['emotion'] == EM).astype(np.int))\n",
    "\n",
    "\n",
    "    # em = pd.DataFrame(columns=emotions)\n",
    "\n",
    "    # for p, e in zip(preds, test_frame['emotion']):    \n",
    "    #     print(f'{e:>12} - {round(p * 100, 3):>6}')\n",
    "    print(EM)\n",
    "    print(rep)"
   ]
  },
  {
   "cell_type": "code",
   "execution_count": 12,
   "metadata": {},
   "outputs": [
    {
     "name": "stdout",
     "output_type": "stream",
     "text": [
      "       angry - C = 7 - Train score = 0.94\n",
      "              precision    recall  f1-score   support\n",
      "\n",
      "           0       0.94      0.99      0.96       317\n",
      "           1       0.85      0.51      0.64        43\n",
      "\n",
      "    accuracy                           0.93       360\n",
      "   macro avg       0.89      0.75      0.80       360\n",
      "weighted avg       0.93      0.93      0.92       360\n",
      "\n",
      "        calm - C = 16 - Train score = 0.9\n",
      "              precision    recall  f1-score   support\n",
      "\n",
      "           0       0.95      0.95      0.95       318\n",
      "           1       0.63      0.62      0.63        42\n",
      "\n",
      "    accuracy                           0.91       360\n",
      "   macro avg       0.79      0.79      0.79       360\n",
      "weighted avg       0.91      0.91      0.91       360\n",
      "\n",
      "     disgust - C = 16 - Train score = 0.9\n",
      "              precision    recall  f1-score   support\n",
      "\n",
      "           0       0.88      0.97      0.92       305\n",
      "           1       0.64      0.29      0.40        55\n",
      "\n",
      "    accuracy                           0.87       360\n",
      "   macro avg       0.76      0.63      0.66       360\n",
      "weighted avg       0.85      0.87      0.84       360\n",
      "\n",
      "     fearful - C = 19 - Train score = 0.9\n",
      "              precision    recall  f1-score   support\n",
      "\n",
      "           0       0.92      0.97      0.94       309\n",
      "           1       0.71      0.49      0.58        51\n",
      "\n",
      "    accuracy                           0.90       360\n",
      "   macro avg       0.82      0.73      0.76       360\n",
      "weighted avg       0.89      0.90      0.89       360\n",
      "\n",
      "       happy - C = 10 - Train score = 0.89\n",
      "              precision    recall  f1-score   support\n",
      "\n",
      "           0       0.92      0.96      0.94       305\n",
      "           1       0.72      0.51      0.60        55\n",
      "\n",
      "    accuracy                           0.89       360\n",
      "   macro avg       0.82      0.74      0.77       360\n",
      "weighted avg       0.89      0.89      0.89       360\n",
      "\n"
     ]
    },
    {
     "name": "stderr",
     "output_type": "stream",
     "text": [
      "/home/juraj/Code/milacc/env/lib64/python3.7/site-packages/sklearn/metrics/classification.py:1437: UndefinedMetricWarning: Precision and F-score are ill-defined and being set to 0.0 in labels with no predicted samples.\n",
      "  'precision', 'predicted', average, warn_for)\n"
     ]
    },
    {
     "name": "stdout",
     "output_type": "stream",
     "text": [
      "     neutral - C = 1 - Train score = 0.93\n",
      "              precision    recall  f1-score   support\n",
      "\n",
      "           0       0.94      1.00      0.97       339\n",
      "           1       0.00      0.00      0.00        21\n",
      "\n",
      "    accuracy                           0.94       360\n",
      "   macro avg       0.47      0.50      0.48       360\n",
      "weighted avg       0.89      0.94      0.91       360\n",
      "\n",
      "         sad - C = 4 - Train score = 0.89\n",
      "              precision    recall  f1-score   support\n",
      "\n",
      "           0       0.89      0.99      0.94       311\n",
      "           1       0.85      0.22      0.35        49\n",
      "\n",
      "    accuracy                           0.89       360\n",
      "   macro avg       0.87      0.61      0.65       360\n",
      "weighted avg       0.88      0.89      0.86       360\n",
      "\n",
      "   surprised - C = 6 - Train score = 0.89\n",
      "              precision    recall  f1-score   support\n",
      "\n",
      "           0       0.91      0.98      0.95       316\n",
      "           1       0.70      0.32      0.44        44\n",
      "\n",
      "    accuracy                           0.90       360\n",
      "   macro avg       0.81      0.65      0.69       360\n",
      "weighted avg       0.89      0.90      0.88       360\n",
      "\n"
     ]
    }
   ],
   "source": [
    "# train one classifier per emotion\n",
    "clfs = {}\n",
    "emotions = np.unique(frame['emotion']).tolist()\n",
    "for emotion in emotions:\n",
    "    # train class vector\n",
    "    y_train = (train_frame['emotion'] == emotion).astype(np.int)\n",
    "    \n",
    "    # fit model\n",
    "    pipe, score = models.svm(train_features, y_train, probability=True)\n",
    "    \n",
    "    # add to pipe\n",
    "    clfs[emotion] = pipe\n",
    "    \n",
    "    # build target class array\n",
    "    y_test = (test_frame['emotion'] == emotion).astype(np.int)\n",
    "    \n",
    "    # predict classes\n",
    "    y_test_pred = pipe.predict(test_features)\n",
    "    \n",
    "    # get report\n",
    "    report = classification_report(y_test, y_test_pred)\n",
    "#     report.\n",
    "    C = pipe.steps[1][1].C\n",
    "    train_score = round(score, 2)\n",
    "    print(f'{emotion:>12} - C = {C} - Train score = {train_score}')\n",
    "    print(report)"
   ]
  },
  {
   "cell_type": "code",
   "execution_count": 13,
   "metadata": {},
   "outputs": [],
   "source": [
    "models.save('ensemble', clfs)"
   ]
  },
  {
   "cell_type": "code",
   "execution_count": 14,
   "metadata": {},
   "outputs": [],
   "source": [
    "clfs = models.load('ensemble')"
   ]
  },
  {
   "cell_type": "code",
   "execution_count": 26,
   "metadata": {
    "scrolled": true
   },
   "outputs": [
    {
     "name": "stdout",
     "output_type": "stream",
     "text": [
      "\n",
      "( disg )  \u001b[97m  23.7%\u001b[0m cal  \u001b[97m  13.4%\u001b[0m dis  \u001b[97m  10.4%\u001b[0m hap  \u001b[97m   7.3%\u001b[0m sad  \u001b[97m   3.6%\u001b[0m fea  \u001b[97m   3.2%\u001b[0m neu  \u001b[97m   3.1%\u001b[0m sur  \u001b[97m   2.1%\u001b[0m ang\n",
      "( calm )  \u001b[97m  23.7%\u001b[0m cal  \u001b[97m  13.4%\u001b[0m dis  \u001b[97m  10.4%\u001b[0m hap  \u001b[97m   7.3%\u001b[0m sad  \u001b[97m   3.6%\u001b[0m fea  \u001b[97m   3.2%\u001b[0m neu  \u001b[97m   3.1%\u001b[0m sur  \u001b[97m   2.1%\u001b[0m ang\n",
      "( angr )  \u001b[97m  23.7%\u001b[0m cal  \u001b[97m  13.4%\u001b[0m dis  \u001b[97m  10.4%\u001b[0m hap  \u001b[97m   7.3%\u001b[0m sad  \u001b[97m   3.6%\u001b[0m fea  \u001b[97m   3.2%\u001b[0m neu  \u001b[97m   3.1%\u001b[0m sur  \u001b[97m   2.1%\u001b[0m ang\n",
      "( disg )  \u001b[97m  23.7%\u001b[0m cal  \u001b[97m  13.4%\u001b[0m dis  \u001b[97m  10.4%\u001b[0m hap  \u001b[97m   7.3%\u001b[0m sad  \u001b[97m   3.6%\u001b[0m fea  \u001b[97m   3.2%\u001b[0m neu  \u001b[97m   3.1%\u001b[0m sur  \u001b[97m   2.1%\u001b[0m ang\n",
      "( surp )  \u001b[97m  23.7%\u001b[0m cal  \u001b[97m  13.4%\u001b[0m dis  \u001b[97m  10.4%\u001b[0m hap  \u001b[97m   7.3%\u001b[0m sad  \u001b[97m   3.6%\u001b[0m fea  \u001b[97m   3.2%\u001b[0m neu  \u001b[97m   3.1%\u001b[0m sur  \u001b[97m   2.1%\u001b[0m ang\n",
      "( angr )  \u001b[97m  23.7%\u001b[0m cal  \u001b[97m  13.4%\u001b[0m dis  \u001b[97m  10.4%\u001b[0m hap  \u001b[97m   7.3%\u001b[0m sad  \u001b[97m   3.6%\u001b[0m fea  \u001b[97m   3.2%\u001b[0m neu  \u001b[97m   3.1%\u001b[0m sur  \u001b[97m   2.1%\u001b[0m ang\n",
      "( sad  )  \u001b[97m  23.7%\u001b[0m cal  \u001b[97m  13.4%\u001b[0m dis  \u001b[97m  10.4%\u001b[0m hap  \u001b[97m   7.3%\u001b[0m sad  \u001b[97m   3.6%\u001b[0m fea  \u001b[97m   3.2%\u001b[0m neu  \u001b[97m   3.1%\u001b[0m sur  \u001b[97m   2.1%\u001b[0m ang\n",
      "( sad  )  \u001b[97m  23.7%\u001b[0m cal  \u001b[97m  13.4%\u001b[0m dis  \u001b[97m  10.4%\u001b[0m hap  \u001b[97m   7.3%\u001b[0m sad  \u001b[97m   3.6%\u001b[0m fea  \u001b[97m   3.2%\u001b[0m neu  \u001b[97m   3.1%\u001b[0m sur  \u001b[97m   2.1%\u001b[0m ang\n",
      "( calm )  \u001b[97m  23.7%\u001b[0m cal  \u001b[97m  13.4%\u001b[0m dis  \u001b[97m  10.4%\u001b[0m hap  \u001b[97m   7.3%\u001b[0m sad  \u001b[97m   3.6%\u001b[0m fea  \u001b[97m   3.2%\u001b[0m neu  \u001b[97m   3.1%\u001b[0m sur  \u001b[97m   2.1%\u001b[0m ang\n",
      "( sad  )  \u001b[97m  23.7%\u001b[0m cal  \u001b[97m  13.4%\u001b[0m dis  \u001b[97m  10.4%\u001b[0m hap  \u001b[97m   7.3%\u001b[0m sad  \u001b[97m   3.6%\u001b[0m fea  \u001b[97m   3.2%\u001b[0m neu  \u001b[97m   3.1%\u001b[0m sur  \u001b[97m   2.1%\u001b[0m ang"
     ]
    }
   ],
   "source": [
    "N = 10\n",
    "\n",
    "# choose N random samples\n",
    "choices = np.random.choice(test_frame.shape[0], N)\n",
    "\n",
    "\n",
    "for idx in choices:\n",
    "    # pick a sample\n",
    "    f = test_frame[idx]\n",
    "    em = f['emotion']\n",
    "    \n",
    "    print(f'\\n({em[:4]:^6})', end='')\n",
    "    \n",
    "    # get probabilities of individual classifiers\n",
    "    guesses = ens.probs(clfs, f['signal'], f['sample_rate'])\n",
    "    \n",
    "    # print top 4 guesses\n",
    "    for e, g in guesses:\n",
    "        print(f'  {colored(round(g * 100, 1))} {e[:3]:<3}', end='')"
   ]
  },
  {
   "cell_type": "markdown",
   "metadata": {},
   "source": [
    "---\n",
    "## Segmentation"
   ]
  },
  {
   "cell_type": "code",
   "execution_count": 71,
   "metadata": {},
   "outputs": [],
   "source": [
    "import settings\n",
    "# load long sample - ~5 minutes\n",
    "y, sr = lr.core.load(f'{settings.DATA_PATH}/audio/cold-sales-call.wav')"
   ]
  },
  {
   "cell_type": "code",
   "execution_count": 72,
   "metadata": {},
   "outputs": [],
   "source": [
    "def log_norm_energy(y):\n",
    "    e = fts.energy(y)\n",
    "    return np.log1p(e).mean()"
   ]
  },
  {
   "cell_type": "code",
   "execution_count": 73,
   "metadata": {},
   "outputs": [],
   "source": [
    "segs, intervals = split.on_silence(y)\n",
    "\n",
    "emos = pd.DataFrame(columns=emotions)\n",
    "\n",
    "for ctx, seg in enumerate(segs):\n",
    "    if log_norm_energy(seg) < 0.01:\n",
    "        continue\n",
    "    guesses = ens.probs(clfs, seg)\n",
    "    for e, g in guesses:\n",
    "        emos.loc[ctx, e] = g"
   ]
  },
  {
   "cell_type": "code",
   "execution_count": 74,
   "metadata": {},
   "outputs": [
    {
     "data": {
      "image/png": "[encoded data removed]",
      "text/plain": [
       "<Figure size 1152x288 with 1 Axes>"
      ]
     },
     "metadata": {},
     "output_type": "display_data"
    }
   ],
   "source": [
    "_ = emos[['angry', 'happy', 'calm', 'neutral']].plot.area(stacked=True, figsize=(16, 4), ylim=(0, 1))"
   ]
  },
  {
   "cell_type": "code",
   "execution_count": 75,
   "metadata": {},
   "outputs": [
    {
     "data": {
      "image/png": "[encoded data removed]",
      "text/plain": [
       "<Figure size 1008x288 with 2 Axes>"
      ]
     },
     "metadata": {},
     "output_type": "display_data"
    }
   ],
   "source": [
    "_ = sns.heatmap(emos.astype(np.float).corr(), annot=True, cbar=True)"
   ]
  }
 ],
 "metadata": {
  "kernelspec": {
   "display_name": "Python 3",
   "language": "python",
   "name": "python3"
  },
  "language_info": {
   "codemirror_mode": {
    "name": "ipython",
    "version": 3
   },
   "file_extension": ".py",
   "mimetype": "text/x-python",
   "name": "python",
   "nbconvert_exporter": "python",
   "pygments_lexer": "ipython3",
   "version": "3.7.3"
  }
 },
 "nbformat": 4,
 "nbformat_minor": 2
}
